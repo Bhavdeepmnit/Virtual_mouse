{
 "cells": [
  {
   "cell_type": "code",
   "execution_count": null,
   "id": "563d6f87-93e7-46c3-98c0-75dd900ce2cf",
   "metadata": {},
   "outputs": [],
   "source": [
    "import numpy as np\n",
    "import os\n",
    "\n",
    "DATA_DIR = \"gesture_data\"\n",
    "if not os.path.exists(DATA_DIR):\n",
    "    os.makedirs(DATA_DIR)\n",
    "\n",
    "gesture_name = \"index_up\"  # Change for each gesture\n",
    "samples = 100  # Number of samples per gesture\n",
    "\n",
    "for sample_num in range(samples):\n",
    "    success, img = cap.read()\n",
    "    if not success:\n",
    "        continue\n",
    "    \n",
    "    img_rgb = cv2.cvtColor(img, cv2.COLOR_BGR2RGB)\n",
    "    results = hands.process(img_rgb)\n",
    "    \n",
    "    if results.multi_hand_landmarks:\n",
    "        hand_landmarks = results.multi_hand_landmarks[0]\n",
    "        data = []\n",
    "        for landmark in hand_landmarks.landmark:\n",
    "            data.extend([landmark.x, landmark.y, landmark.z])\n",
    "        \n",
    "        np.save(f\"{DATA_DIR}/{gesture_name}_{sample_num}.npy\", np.array(data))\n",
    "    \n",
    "    cv2.imshow(\"Collecting Data\", img)\n",
    "    cv2.waitKey(25)\n",
    "\n",
    "print(f\"Saved {samples} samples for {gesture_name}\")"
   ]
  }
 ],
 "metadata": {
  "kernelspec": {
   "display_name": "Python 3 (ipykernel)",
   "language": "python",
   "name": "python3"
  },
  "language_info": {
   "codemirror_mode": {
    "name": "ipython",
    "version": 3
   },
   "file_extension": ".py",
   "mimetype": "text/x-python",
   "name": "python",
   "nbconvert_exporter": "python",
   "pygments_lexer": "ipython3",
   "version": "3.9.13"
  }
 },
 "nbformat": 4,
 "nbformat_minor": 5
}
